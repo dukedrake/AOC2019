{
 "cells": [
  {
   "cell_type": "code",
   "execution_count": null,
   "metadata": {},
   "outputs": [],
   "source": [
    "# input: 246540-787419\n",
    "# input must obide to the given constraints, hence:\n",
    "# lowest valid number in range\n",
    "lowlimit  = 246666\n",
    "# highest valid number in range - +1\n",
    "highlimit = 780000\n",
    "\n",
    "# totalpasswords in range: 533334"
   ]
  },
  {
   "cell_type": "markdown",
   "metadata": {},
   "source": [
    "### Part 1"
   ]
  },
  {
   "cell_type": "code",
   "execution_count": null,
   "metadata": {},
   "outputs": [],
   "source": [
    "def checkValidity(code):\n",
    "    strCode = str(code)\n",
    "    hasSameDigit = False\n",
    "    lastDigit = -1\n",
    "    curDigit  = -1\n",
    "    for x in range(1, len(strCode)):\n",
    "        lastDigit = int(strCode[x-1])\n",
    "        curDigit = int(strCode[x])\n",
    "        if(lastDigit > curDigit):\n",
    "            return False\n",
    "        \n",
    "        if not hasSameDigit and curDigit == lastDigit:\n",
    "            hasSameDigit = True\n",
    "                \n",
    "    if hasSameDigit:\n",
    "        return True\n",
    "    else:\n",
    "        return False\n",
    "                \n",
    "\n"
   ]
  },
  {
   "cell_type": "code",
   "execution_count": null,
   "metadata": {},
   "outputs": [],
   "source": [
    "totalpass = 0\n",
    "for testpass in range(lowlimit,highlimit):\n",
    "    if checkValidity(testpass):\n",
    "        totalpass += 1\n",
    "\n",
    "print(totalpass)"
   ]
  },
  {
   "cell_type": "markdown",
   "metadata": {},
   "source": [
    "### Part 2"
   ]
  },
  {
   "cell_type": "code",
   "execution_count": null,
   "metadata": {},
   "outputs": [],
   "source": [
    "def checkValidityPart2(code):\n",
    "    strCode = str(code)\n",
    "    hasSameDigit = False\n",
    "    lastDigit = -1\n",
    "    doubleTestDigit = -1\n",
    "    curDigit  = -1\n",
    "    for x in range(1, len(strCode)):\n",
    "        lastDigit = int(strCode[x-1])\n",
    "        curDigit = int(strCode[x])\n",
    "        if(lastDigit > curDigit):\n",
    "            return False\n",
    "        \n",
    "        if not hasSameDigit and curDigit == lastDigit and curDigit != doubleTestDigit:\n",
    "            hasSameDigit = True\n",
    "            doubleTestDigit = curDigit\n",
    "        elif hasSameDigit and curDigit == doubleTestDigit:\n",
    "            hasSameDigit = False\n",
    "                \n",
    "    if hasSameDigit:\n",
    "        return True\n",
    "    else:\n",
    "        return False\n",
    "                \n",
    "\n"
   ]
  },
  {
   "cell_type": "code",
   "execution_count": null,
   "metadata": {},
   "outputs": [],
   "source": [
    "totalpass = 0\n",
    "for testpass in range(lowlimit,highlimit):\n",
    "    if checkValidityPart2(testpass):\n",
    "        totalpass += 1\n",
    "        # print(testpass)\n",
    "\n",
    "print(totalpass)\n"
   ]
  }
 ],
 "metadata": {
  "kernelspec": {
   "display_name": "Python 3",
   "language": "python",
   "name": "python3"
  },
  "language_info": {
   "codemirror_mode": {
    "name": "ipython",
    "version": 3
   },
   "file_extension": ".py",
   "mimetype": "text/x-python",
   "name": "python",
   "nbconvert_exporter": "python",
   "pygments_lexer": "ipython3",
   "version": "3.7.3"
  }
 },
 "nbformat": 4,
 "nbformat_minor": 2
}
