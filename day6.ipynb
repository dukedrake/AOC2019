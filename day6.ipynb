{
 "cells": [
  {
   "cell_type": "code",
   "execution_count": null,
   "metadata": {},
   "outputs": [],
   "source": [
    "def parseInput():\n",
    "    filepath = 'day6_input'\n",
    "    allParts = []\n",
    "    with open(filepath) as file:\n",
    "        allLines = [line.rstrip() for line in file]\n",
    "        # data = file.read().rstrip()\n",
    "        # allParts = data.split(',')\n",
    "        allParts = [ x.split(')') for x in allLines ]\n",
    "    return allParts\n",
    "\n",
    "'''\n",
    "def isset(clist,cindex):\n",
    "    try:\n",
    "        clist[cindex]\n",
    "    except IndexError:\n",
    "        return False\n",
    "    return True\n",
    "'''"
   ]
  },
  {
   "cell_type": "code",
   "execution_count": 35,
   "metadata": {},
   "outputs": [],
   "source": [
    "def traverseRec(cnode, depth):\n",
    "    if not cnode in childPlan:\n",
    "        return depth + 1\n",
    "    else:\n",
    "        totalNodes = depth + 1\n",
    "        depth += 1\n",
    "        for childPlanets in childPlan[cnode]:\n",
    "            totalNodes += traverseRec(childPlanets, depth)\n",
    "        return totalNodes"
   ]
  },
  {
   "cell_type": "code",
   "execution_count": 36,
   "metadata": {},
   "outputs": [
    {
     "name": "stdout",
     "output_type": "stream",
     "text": [
      "119831\n"
     ]
    }
   ],
   "source": [
    "allPlanets = parseInput()\n",
    "# allPlanets = [['COM', 'B'], ['B', 'C'], ['C', 'D'], ['D', 'E'], ['E', 'F'], ['B', 'G'], ['G', 'H'], ['D', 'I'], ['E', 'J'], ['J', 'K'], ['K', 'L']]\n",
    "# print(allPlanets)\n",
    "\n",
    "childPlan = {}\n",
    "for curRel in allPlanets:\n",
    "    if not curRel[0] in childPlan:\n",
    "        childPlan[curRel[0]] = [curRel[1]]\n",
    "    else:\n",
    "        childPlan[curRel[0]].append(curRel[1])\n",
    "\n",
    "totalNodes = traverseRec('COM', -1)\n",
    "print(totalNodes)\n",
    "\n"
   ]
  },
  {
   "cell_type": "code",
   "execution_count": 63,
   "metadata": {},
   "outputs": [],
   "source": [
    "def traverseRecSAN(cnode, cpath):\n",
    "    # print(santaRoute)\n",
    "    print(childPlan2)\n",
    "    if not cnode in childPlan:\n",
    "        return cpath\n",
    "    else:\n",
    "        for childPlanet in childPlan[cnode]:\n",
    "            cpath.append(childPlanet)\n",
    "            if childPlanet == \"SAN\":\n",
    "                santaRoute = list(cpath)\n",
    "                print(santaRoute)\n",
    "                return cpath\n",
    "            else:\n",
    "                traverseRecSAN(childPlanet, cpath)\n",
    "                cpath.pop()\n",
    "        return cpath"
   ]
  },
  {
   "cell_type": "code",
   "execution_count": 64,
   "metadata": {},
   "outputs": [
    {
     "name": "stdout",
     "output_type": "stream",
     "text": [
      "{'COM': ['B'], 'B': ['C', 'G'], 'C': ['D'], 'D': ['E', 'I'], 'E': ['F', 'J'], 'G': ['H'], 'J': ['K'], 'K': ['L', 'YOU'], 'I': ['SAN']}\n",
      "{'COM': ['B'], 'B': ['C', 'G'], 'C': ['D'], 'D': ['E', 'I'], 'E': ['F', 'J'], 'G': ['H'], 'J': ['K'], 'K': ['L', 'YOU'], 'I': ['SAN']}\n",
      "{'COM': ['B'], 'B': ['C', 'G'], 'C': ['D'], 'D': ['E', 'I'], 'E': ['F', 'J'], 'G': ['H'], 'J': ['K'], 'K': ['L', 'YOU'], 'I': ['SAN']}\n",
      "{'COM': ['B'], 'B': ['C', 'G'], 'C': ['D'], 'D': ['E', 'I'], 'E': ['F', 'J'], 'G': ['H'], 'J': ['K'], 'K': ['L', 'YOU'], 'I': ['SAN']}\n",
      "{'COM': ['B'], 'B': ['C', 'G'], 'C': ['D'], 'D': ['E', 'I'], 'E': ['F', 'J'], 'G': ['H'], 'J': ['K'], 'K': ['L', 'YOU'], 'I': ['SAN']}\n",
      "{'COM': ['B'], 'B': ['C', 'G'], 'C': ['D'], 'D': ['E', 'I'], 'E': ['F', 'J'], 'G': ['H'], 'J': ['K'], 'K': ['L', 'YOU'], 'I': ['SAN']}\n",
      "{'COM': ['B'], 'B': ['C', 'G'], 'C': ['D'], 'D': ['E', 'I'], 'E': ['F', 'J'], 'G': ['H'], 'J': ['K'], 'K': ['L', 'YOU'], 'I': ['SAN']}\n",
      "{'COM': ['B'], 'B': ['C', 'G'], 'C': ['D'], 'D': ['E', 'I'], 'E': ['F', 'J'], 'G': ['H'], 'J': ['K'], 'K': ['L', 'YOU'], 'I': ['SAN']}\n",
      "{'COM': ['B'], 'B': ['C', 'G'], 'C': ['D'], 'D': ['E', 'I'], 'E': ['F', 'J'], 'G': ['H'], 'J': ['K'], 'K': ['L', 'YOU'], 'I': ['SAN']}\n",
      "{'COM': ['B'], 'B': ['C', 'G'], 'C': ['D'], 'D': ['E', 'I'], 'E': ['F', 'J'], 'G': ['H'], 'J': ['K'], 'K': ['L', 'YOU'], 'I': ['SAN']}\n",
      "{'COM': ['B'], 'B': ['C', 'G'], 'C': ['D'], 'D': ['E', 'I'], 'E': ['F', 'J'], 'G': ['H'], 'J': ['K'], 'K': ['L', 'YOU'], 'I': ['SAN']}\n",
      "['COM', 'B', 'C', 'D', 'I', 'SAN']\n",
      "{'COM': ['B'], 'B': ['C', 'G'], 'C': ['D'], 'D': ['E', 'I'], 'E': ['F', 'J'], 'G': ['H'], 'J': ['K'], 'K': ['L', 'YOU'], 'I': ['SAN']}\n",
      "{'COM': ['B'], 'B': ['C', 'G'], 'C': ['D'], 'D': ['E', 'I'], 'E': ['F', 'J'], 'G': ['H'], 'J': ['K'], 'K': ['L', 'YOU'], 'I': ['SAN']}\n",
      "['blub']\n"
     ]
    }
   ],
   "source": [
    "# allPlanets = parseInput()\n",
    "allPlanets = [['COM', 'B'], ['B', 'C'], ['C', 'D'], ['D', 'E'], ['E', 'F'], ['B', 'G'], ['G', 'H'], ['D', 'I'], ['E', 'J'], ['J', 'K'], ['K', 'L'], ['K', 'YOU'], ['I', 'SAN']]\n",
    "# print(allPlanets)\n",
    "\n",
    "santaRoute = ['blub']\n",
    "childPlan2 = {}\n",
    "for curRel in allPlanets:\n",
    "    if not curRel[0] in childPlan2:\n",
    "        childPlan2[curRel[0]] = [curRel[1]]\n",
    "    else:\n",
    "        childPlan2[curRel[0]].append(curRel[1])\n",
    "\n",
    "traverseRecSAN('COM', ['COM'])\n",
    "print(santaRoute)\n",
    "\n",
    "\n"
   ]
  },
  {
   "cell_type": "code",
   "execution_count": null,
   "metadata": {},
   "outputs": [],
   "source": []
  }
 ],
 "metadata": {
  "kernelspec": {
   "display_name": "Python 3",
   "language": "python",
   "name": "python3"
  },
  "language_info": {
   "codemirror_mode": {
    "name": "ipython",
    "version": 3
   },
   "file_extension": ".py",
   "mimetype": "text/x-python",
   "name": "python",
   "nbconvert_exporter": "python",
   "pygments_lexer": "ipython3",
   "version": "3.7.3"
  }
 },
 "nbformat": 4,
 "nbformat_minor": 2
}
