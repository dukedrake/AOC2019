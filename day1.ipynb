{
 "cells": [
  {
   "cell_type": "code",
   "execution_count": null,
   "metadata": {},
   "outputs": [],
   "source": [
    "filepath = 'day1_input'\n",
    "\n",
    "with open(filepath) as fp:\n",
    "    totalFuel = 0\n",
    "    for line in fp:\n",
    "        line = line.strip()\n",
    "        if not line: continue\n",
    "        fuelCurModule = int(line) // 3 -2\n",
    "        totalFuel += fuelCurModule\n",
    "    \n",
    "    print(totalFuel)"
   ]
  },
  {
   "cell_type": "code",
   "execution_count": null,
   "metadata": {},
   "outputs": [],
   "source": [
    "filepath = 'day1_input'\n",
    "\n",
    "with open(filepath) as fp:\n",
    "    totalFuel = 0\n",
    "    line = 1\n",
    "    while line:\n",
    "        line = fp.readline().strip()\n",
    "        if not line: continue\n",
    "        weightCurModule = int(line)\n",
    "        # print('*** ' + str(weightCurModule))\n",
    "        fuelCurModule = 0\n",
    "        while weightCurModule > 0:\n",
    "            weightCurModule = weightCurModule // 3 -2\n",
    "            # print('      ' + str(weightCurModule))\n",
    "            if weightCurModule > 0:\n",
    "                fuelCurModule += weightCurModule\n",
    "        totalFuel += fuelCurModule\n",
    "    \n",
    "    print(totalFuel)"
   ]
  }
 ],
 "metadata": {
  "kernelspec": {
   "display_name": "Python 3",
   "language": "python",
   "name": "python3"
  },
  "language_info": {
   "codemirror_mode": {
    "name": "ipython",
    "version": 3
   },
   "file_extension": ".py",
   "mimetype": "text/x-python",
   "name": "python",
   "nbconvert_exporter": "python",
   "pygments_lexer": "ipython3",
   "version": "3.7.3"
  }
 },
 "nbformat": 4,
 "nbformat_minor": 2
}
