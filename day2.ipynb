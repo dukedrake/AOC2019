{
 "cells": [
  {
   "cell_type": "code",
   "execution_count": null,
   "metadata": {},
   "outputs": [],
   "source": [
    "def parseInput():\n",
    "    filepath = 'day2_input'\n",
    "    allParts = []\n",
    "    with open(filepath) as file:\n",
    "        # data = [line.rstrip() for line in file]\n",
    "        data = file.read().rstrip()\n",
    "        allParts = data.split(',')\n",
    "        allParts = [ int(x) for x in allParts ]\n",
    "    return allParts"
   ]
  },
  {
   "cell_type": "code",
   "execution_count": null,
   "metadata": {},
   "outputs": [],
   "source": [
    "allInts = parseInput()\n",
    "allInts[1] = 12\n",
    "allInts[2] = 2\n",
    "for ip in range(0, len(allInts), 4):\n",
    "    opcode = allInts[ip]\n",
    "    if opcode == 99:\n",
    "        break\n",
    "    param1 = allInts[allInts[ip+1]]\n",
    "    param2 = allInts[allInts[ip+2]]\n",
    "    targetIndex = allInts[ip+3]\n",
    "    if   opcode == 1:\n",
    "        allInts[targetIndex] = param1 + param2\n",
    "    elif opcode == 2:\n",
    "        allInts[targetIndex] = param1 * param2\n",
    "        \n",
    "print(allInts[0]) "
   ]
  },
  {
   "cell_type": "code",
   "execution_count": null,
   "metadata": {},
   "outputs": [],
   "source": [
    "allInts = parseInput()\n",
    "allIntsCopy = list(allInts)\n",
    "doBreak = False\n",
    "for noun in range(0,99):\n",
    "    if doBreak:\n",
    "        break\n",
    "    for verb in range(0,99):\n",
    "        allInts = list(allIntsCopy)\n",
    "        allInts[1] = noun\n",
    "        allInts[2] = verb\n",
    "        for ip in range(0, len(allInts), 4):\n",
    "            opcode = allInts[ip]\n",
    "            if opcode == 99:\n",
    "                break\n",
    "            param1 = allInts[allInts[ip+1]]\n",
    "            param2 = allInts[allInts[ip+2]]\n",
    "            targetIndex = allInts[ip+3]\n",
    "            if targetIndex >= len(allInts):\n",
    "                break;\n",
    "\n",
    "            if   opcode == 1:\n",
    "                allInts[targetIndex] = param1 + param2\n",
    "            elif opcode == 2:\n",
    "                allInts[targetIndex] = param1 * param2\n",
    "        \n",
    "        if allInts[0] == 19690720:\n",
    "            print(noun,verb)\n",
    "            doBreak = True\n",
    "            break\n",
    "    "
   ]
  },
  {
   "cell_type": "code",
   "execution_count": null,
   "metadata": {},
   "outputs": [],
   "source": []
  }
 ],
 "metadata": {
  "kernelspec": {
   "display_name": "Python 3",
   "language": "python",
   "name": "python3"
  },
  "language_info": {
   "codemirror_mode": {
    "name": "ipython",
    "version": 3
   },
   "file_extension": ".py",
   "mimetype": "text/x-python",
   "name": "python",
   "nbconvert_exporter": "python",
   "pygments_lexer": "ipython3",
   "version": "3.7.3"
  }
 },
 "nbformat": 4,
 "nbformat_minor": 2
}
