{
 "cells": [
  {
   "cell_type": "code",
   "execution_count": 1,
   "metadata": {},
   "outputs": [],
   "source": [
    "def parseInput():\n",
    "    filepath = 'day8_input'\n",
    "    allParts = []\n",
    "    with open(filepath) as file:\n",
    "        data = file.read().rstrip()\n",
    "    return data\n",
    "\n"
   ]
  },
  {
   "cell_type": "markdown",
   "metadata": {},
   "source": [
    "### Part 1"
   ]
  },
  {
   "cell_type": "code",
   "execution_count": 27,
   "metadata": {},
   "outputs": [
    {
     "name": "stdout",
     "output_type": "stream",
     "text": [
      "2159\n"
     ]
    }
   ],
   "source": [
    "allData = parseInput()\n",
    "n = 150\n",
    "allLayers = [allData[i:i+n] for i in range(0, len(allData), n)]\n",
    "\n",
    "largest0Layer = 0\n",
    "lowest0Num = 100\n",
    "for j in range(len(allLayers)):\n",
    "    # filtered_result = filter (lambda x: x == \"0\", oneLayer) \n",
    "    b = reduce(lambda a, i: a+1 if (i == \"0\") else a, allLayers[j], 0)\n",
    "    if b < lowest0Num:\n",
    "        lowest0Num = b\n",
    "        largest0Layer = j\n",
    "        \n",
    "targetLayer = allLayers[largest0Layer]\n",
    "num1s = reduce(lambda a, i: a+1 if (i == \"1\") else a, targetLayer, 0)\n",
    "num2s = reduce(lambda a, i: a+1 if (i == \"2\") else a, targetLayer, 0)\n",
    "\n",
    "print(num1s*num2s)\n",
    "\n",
    "# print(lowest0Num)\n",
    "# print(largest0Layer)\n",
    "\n",
    "    "
   ]
  },
  {
   "cell_type": "markdown",
   "metadata": {},
   "source": [
    "### Part 2"
   ]
  },
  {
   "cell_type": "code",
   "execution_count": 47,
   "metadata": {},
   "outputs": [
    {
     "name": "stdout",
     "output_type": "stream",
     "text": [
      "\u001b[40m\u001b[30m0\u001b[0m\u001b[47m\u001b[37m1\u001b[0m\u001b[47m\u001b[37m1\u001b[0m\u001b[40m\u001b[30m0\u001b[0m\u001b[40m\u001b[30m0\u001b[0m\u001b[40m\u001b[30m0\u001b[0m\u001b[40m\u001b[30m0\u001b[0m\u001b[47m\u001b[37m1\u001b[0m\u001b[47m\u001b[37m1\u001b[0m\u001b[40m\u001b[30m0\u001b[0m\u001b[47m\u001b[37m1\u001b[0m\u001b[47m\u001b[37m1\u001b[0m\u001b[47m\u001b[37m1\u001b[0m\u001b[47m\u001b[37m1\u001b[0m\u001b[40m\u001b[30m0\u001b[0m\u001b[47m\u001b[37m1\u001b[0m\u001b[40m\u001b[30m0\u001b[0m\u001b[40m\u001b[30m0\u001b[0m\u001b[47m\u001b[37m1\u001b[0m\u001b[40m\u001b[30m0\u001b[0m\u001b[47m\u001b[37m1\u001b[0m\u001b[47m\u001b[37m1\u001b[0m\u001b[47m\u001b[37m1\u001b[0m\u001b[40m\u001b[30m0\u001b[0m\u001b[40m\u001b[30m0\u001b[0m\n",
      "\u001b[47m\u001b[37m1\u001b[0m\u001b[40m\u001b[30m0\u001b[0m\u001b[40m\u001b[30m0\u001b[0m\u001b[47m\u001b[37m1\u001b[0m\u001b[40m\u001b[30m0\u001b[0m\u001b[40m\u001b[30m0\u001b[0m\u001b[40m\u001b[30m0\u001b[0m\u001b[40m\u001b[30m0\u001b[0m\u001b[47m\u001b[37m1\u001b[0m\u001b[40m\u001b[30m0\u001b[0m\u001b[40m\u001b[30m0\u001b[0m\u001b[40m\u001b[30m0\u001b[0m\u001b[40m\u001b[30m0\u001b[0m\u001b[47m\u001b[37m1\u001b[0m\u001b[40m\u001b[30m0\u001b[0m\u001b[47m\u001b[37m1\u001b[0m\u001b[40m\u001b[30m0\u001b[0m\u001b[40m\u001b[30m0\u001b[0m\u001b[47m\u001b[37m1\u001b[0m\u001b[40m\u001b[30m0\u001b[0m\u001b[47m\u001b[37m1\u001b[0m\u001b[40m\u001b[30m0\u001b[0m\u001b[40m\u001b[30m0\u001b[0m\u001b[47m\u001b[37m1\u001b[0m\u001b[40m\u001b[30m0\u001b[0m\n",
      "\u001b[47m\u001b[37m1\u001b[0m\u001b[40m\u001b[30m0\u001b[0m\u001b[40m\u001b[30m0\u001b[0m\u001b[40m\u001b[30m0\u001b[0m\u001b[40m\u001b[30m0\u001b[0m\u001b[40m\u001b[30m0\u001b[0m\u001b[40m\u001b[30m0\u001b[0m\u001b[40m\u001b[30m0\u001b[0m\u001b[47m\u001b[37m1\u001b[0m\u001b[40m\u001b[30m0\u001b[0m\u001b[40m\u001b[30m0\u001b[0m\u001b[40m\u001b[30m0\u001b[0m\u001b[47m\u001b[37m1\u001b[0m\u001b[40m\u001b[30m0\u001b[0m\u001b[40m\u001b[30m0\u001b[0m\u001b[47m\u001b[37m1\u001b[0m\u001b[47m\u001b[37m1\u001b[0m\u001b[47m\u001b[37m1\u001b[0m\u001b[47m\u001b[37m1\u001b[0m\u001b[40m\u001b[30m0\u001b[0m\u001b[47m\u001b[37m1\u001b[0m\u001b[40m\u001b[30m0\u001b[0m\u001b[40m\u001b[30m0\u001b[0m\u001b[47m\u001b[37m1\u001b[0m\u001b[40m\u001b[30m0\u001b[0m\n",
      "\u001b[47m\u001b[37m1\u001b[0m\u001b[40m\u001b[30m0\u001b[0m\u001b[40m\u001b[30m0\u001b[0m\u001b[40m\u001b[30m0\u001b[0m\u001b[40m\u001b[30m0\u001b[0m\u001b[40m\u001b[30m0\u001b[0m\u001b[40m\u001b[30m0\u001b[0m\u001b[40m\u001b[30m0\u001b[0m\u001b[47m\u001b[37m1\u001b[0m\u001b[40m\u001b[30m0\u001b[0m\u001b[40m\u001b[30m0\u001b[0m\u001b[47m\u001b[37m1\u001b[0m\u001b[40m\u001b[30m0\u001b[0m\u001b[40m\u001b[30m0\u001b[0m\u001b[40m\u001b[30m0\u001b[0m\u001b[47m\u001b[37m1\u001b[0m\u001b[40m\u001b[30m0\u001b[0m\u001b[40m\u001b[30m0\u001b[0m\u001b[47m\u001b[37m1\u001b[0m\u001b[40m\u001b[30m0\u001b[0m\u001b[47m\u001b[37m1\u001b[0m\u001b[47m\u001b[37m1\u001b[0m\u001b[47m\u001b[37m1\u001b[0m\u001b[40m\u001b[30m0\u001b[0m\u001b[40m\u001b[30m0\u001b[0m\n",
      "\u001b[47m\u001b[37m1\u001b[0m\u001b[40m\u001b[30m0\u001b[0m\u001b[40m\u001b[30m0\u001b[0m\u001b[47m\u001b[37m1\u001b[0m\u001b[40m\u001b[30m0\u001b[0m\u001b[47m\u001b[37m1\u001b[0m\u001b[40m\u001b[30m0\u001b[0m\u001b[40m\u001b[30m0\u001b[0m\u001b[47m\u001b[37m1\u001b[0m\u001b[40m\u001b[30m0\u001b[0m\u001b[47m\u001b[37m1\u001b[0m\u001b[40m\u001b[30m0\u001b[0m\u001b[40m\u001b[30m0\u001b[0m\u001b[40m\u001b[30m0\u001b[0m\u001b[40m\u001b[30m0\u001b[0m\u001b[47m\u001b[37m1\u001b[0m\u001b[40m\u001b[30m0\u001b[0m\u001b[40m\u001b[30m0\u001b[0m\u001b[47m\u001b[37m1\u001b[0m\u001b[40m\u001b[30m0\u001b[0m\u001b[47m\u001b[37m1\u001b[0m\u001b[40m\u001b[30m0\u001b[0m\u001b[47m\u001b[37m1\u001b[0m\u001b[40m\u001b[30m0\u001b[0m\u001b[40m\u001b[30m0\u001b[0m\n",
      "\u001b[40m\u001b[30m0\u001b[0m\u001b[47m\u001b[37m1\u001b[0m\u001b[47m\u001b[37m1\u001b[0m\u001b[40m\u001b[30m0\u001b[0m\u001b[40m\u001b[30m0\u001b[0m\u001b[40m\u001b[30m0\u001b[0m\u001b[47m\u001b[37m1\u001b[0m\u001b[47m\u001b[37m1\u001b[0m\u001b[40m\u001b[30m0\u001b[0m\u001b[40m\u001b[30m0\u001b[0m\u001b[47m\u001b[37m1\u001b[0m\u001b[47m\u001b[37m1\u001b[0m\u001b[47m\u001b[37m1\u001b[0m\u001b[47m\u001b[37m1\u001b[0m\u001b[40m\u001b[30m0\u001b[0m\u001b[47m\u001b[37m1\u001b[0m\u001b[40m\u001b[30m0\u001b[0m\u001b[40m\u001b[30m0\u001b[0m\u001b[47m\u001b[37m1\u001b[0m\u001b[40m\u001b[30m0\u001b[0m\u001b[47m\u001b[37m1\u001b[0m\u001b[40m\u001b[30m0\u001b[0m\u001b[40m\u001b[30m0\u001b[0m\u001b[47m\u001b[37m1\u001b[0m\u001b[40m\u001b[30m0\u001b[0m\n"
     ]
    }
   ],
   "source": [
    "from termcolor import colored, cprint\n",
    "\n",
    "frontLayer = list(allLayers[0])\n",
    "for cLayer in allLayers:\n",
    "    pointa = 0\n",
    "    for row in range(6):\n",
    "        for pixel in range(25):\n",
    "            if frontLayer[pointa] == \"2\" and cLayer[pointa] != \"2\":\n",
    "                frontLayer[pointa] = cLayer[pointa]\n",
    "            pointa += 1\n",
    "\n",
    "pointa = 0\n",
    "for row in range(6):\n",
    "    for pixel in range(25):\n",
    "        if frontLayer[pointa] == \"0\":\n",
    "            cprint(frontLayer[pointa], 'grey', 'on_grey', end='')\n",
    "        elif frontLayer[pointa] == \"1\":\n",
    "            cprint(frontLayer[pointa], 'white', 'on_white', end='')\n",
    "        pointa += 1\n",
    "    print(\"\")\n"
   ]
  },
  {
   "cell_type": "code",
   "execution_count": null,
   "metadata": {},
   "outputs": [],
   "source": []
  }
 ],
 "metadata": {
  "kernelspec": {
   "display_name": "Python 3",
   "language": "python",
   "name": "python3"
  },
  "language_info": {
   "codemirror_mode": {
    "name": "ipython",
    "version": 3
   },
   "file_extension": ".py",
   "mimetype": "text/x-python",
   "name": "python",
   "nbconvert_exporter": "python",
   "pygments_lexer": "ipython3",
   "version": "3.7.3"
  }
 },
 "nbformat": 4,
 "nbformat_minor": 2
}
