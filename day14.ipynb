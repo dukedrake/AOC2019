{
 "cells": [
  {
   "cell_type": "code",
   "execution_count": null,
   "metadata": {},
   "outputs": [],
   "source": [
    "def parseInput():\n",
    "    filepath = 'day14_input'\n",
    "    allParts = []\n",
    "    with open(filepath) as file:\n",
    "        data = [line.rstrip() for line in file]\n",
    "        # data = file.read().rstrip()\n",
    "        allParts = [ x.split(\" => \") for x in data ]\n",
    "    return allParts\n",
    "\n",
    "reactions = [ x.split(\" => \") for x in rawReactions ]\n",
    "reactions = parseInput()"
   ]
  },
  {
   "cell_type": "code",
   "execution_count": null,
   "metadata": {},
   "outputs": [],
   "source": [
    "import math\n",
    "def traverseRec(cnode, multi, lvl):\n",
    "    \n",
    "    # ORE-case\n",
    "    totalOre = 0\n",
    "    if not cnode in reactionPlan:\n",
    "        return multi\n",
    "    else:\n",
    "        if multi > interAmount[cnode]:\n",
    "            multi -= interAmount[cnode]\n",
    "            interAmount[cnode] = 0\n",
    "        else:\n",
    "            interAmount[cnode] -= multi\n",
    "            return 0\n",
    "        \n",
    "        curMult = math.ceil(multi / reactionPlan[cnode][0])\n",
    "        interAmount[cnode] += curMult * reactionPlan[cnode][0] - multi\n",
    "        \n",
    "        for educt in reactionPlan[cnode][1]:\n",
    "            lvl+=1\n",
    "            totalOre += traverseRecNew(educt[1], educt[0]*curMult, lvl)\n",
    "            lvl-=1\n",
    "            \n",
    "        return totalOre"
   ]
  },
  {
   "cell_type": "code",
   "execution_count": null,
   "metadata": {},
   "outputs": [],
   "source": [
    "reactionPlan = {}\n",
    "eductList = {}\n",
    "interAmount = {}\n",
    "\n",
    "# build data structures\n",
    "for curReaction in reactions:\n",
    "    product = curReaction[1].split(' ')\n",
    "    product[0] = int(product[0])\n",
    "    interAmount[product[1]] = 0\n",
    "    prodAmount[product[1]] = 0\n",
    "    educts = curReaction[0].split(', ')\n",
    "    educts = [x.split(' ') for x in educts]\n",
    "    \n",
    "    \n",
    "    for x in educts:\n",
    "        x[0] = int(x[0])\n",
    "        if x[1] not in eductList:\n",
    "            eductList[x[1]] = [product[1]]\n",
    "        else:\n",
    "            eductList[x[1]].append(product[1])\n",
    "            \n",
    "    reactionPlan[product[1]] = [ product[0], educts ]\n",
    "    # print(product, \" <= \", educts)\n",
    "\n",
    "\n",
    "# day14 part1\n",
    "# totalOre = traverseRec('FUEL', 1, 1)\n",
    "# print(\"***\",totalOre,\"***\")\n",
    "\n",
    "oreLeft = 1000000000000\n",
    "totalFuel = 0\n",
    "while oreLeft > 0:\n",
    "    # requested product, amount, nesting level\n",
    "    oreLeft -= traverseRec('FUEL', 1, 1)\n",
    "    totalFuel += 1\n",
    "    if totalFuel % 100000 == 0:\n",
    "        print(totalFuel,', ', oreLeft, end='')\n",
    "totalFuel -= 1\n",
    "\n",
    "print('\\ndone, ', totalFuel)\n"
   ]
  }
 ],
 "metadata": {
  "kernelspec": {
   "display_name": "Python 3",
   "language": "python",
   "name": "python3"
  },
  "language_info": {
   "codemirror_mode": {
    "name": "ipython",
    "version": 3
   },
   "file_extension": ".py",
   "mimetype": "text/x-python",
   "name": "python",
   "nbconvert_exporter": "python",
   "pygments_lexer": "ipython3",
   "version": "3.8.5"
  }
 },
 "nbformat": 4,
 "nbformat_minor": 2
}
