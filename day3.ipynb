{
 "cells": [
  {
   "cell_type": "code",
   "execution_count": 11,
   "metadata": {},
   "outputs": [],
   "source": [
    "def parseInput():\n",
    "    filepath = 'day3_input'\n",
    "    data = []\n",
    "    with open(filepath) as file:\n",
    "        data = [line.rstrip() for line in file]\n",
    "    return data"
   ]
  },
  {
   "cell_type": "code",
   "execution_count": 98,
   "metadata": {},
   "outputs": [
    {
     "name": "stdout",
     "output_type": "stream",
     "text": [
      "{(4303, -1752): 117738, (4503, -1752): 120280, (4052, -1974): 120953, (3791, -1974): 121214, (3791, -1598): 121958, (3385, -1259): 124029, (2546, -1383): 124992, (2511, -1383): 125027, (2487, -1383): 125051, (2326, -1383): 125212, (2072, -1383): 125466, (1906, -1428): 125677, (1403, -1850): 126602, (1381, -1565): 126909, (1381, -1428): 127046, (970, -1159): 128318, (970, -1387): 138036}\n"
     ]
    }
   ],
   "source": [
    "wires = parseInput()\n",
    "rightWireParts = wires[0].split(',')\n",
    "leftWireParts = wires[1].split(',')\n",
    "\n",
    "rightCurPart = leftCurPart = -1\n",
    "rightCurPartLength = leftCurPartLength = -1\n",
    "rightCurDirection = leftCurDirection = False\n",
    "rightCurPartIndex = leftCurPartIndex = 0\n",
    "rightCoord = [0,0]\n",
    "leftCoord = [0,0]\n",
    "\n",
    "raceTrack = {}\n",
    "raceTrack[0,0] = 'O'\n",
    "\n",
    "foundCrossings = {}\n",
    "\n",
    "for ticks in range (0,138225):\n",
    "    \n",
    "    if not rightCurDirection:\n",
    "        rightCurPart += 1\n",
    "        rightCurDirection = rightWireParts[rightCurPart][0]\n",
    "        rightCurPartLength = int(rightWireParts[rightCurPart][1:])\n",
    "        rightCurPartIndex = 0\n",
    "        \n",
    "    if not leftCurDirection:\n",
    "        leftCurPart += 1\n",
    "        leftCurDirection  = leftWireParts[leftCurPart][0]\n",
    "        leftCurPartLength = int(leftWireParts[leftCurPart][1:])\n",
    "        leftCurPartIndex = 0\n",
    "        \n",
    "        \n",
    "    if   rightCurDirection == 'U':\n",
    "        rightCoord[1] -= 1\n",
    "    elif rightCurDirection == 'R':\n",
    "        rightCoord[0] += 1\n",
    "    elif rightCurDirection == 'D':\n",
    "        rightCoord[1] += 1\n",
    "    elif rightCurDirection == 'L':\n",
    "        rightCoord[0] -= 1\n",
    "    \n",
    "    if (rightCoord[0],rightCoord[1]) in raceTrack and raceTrack[rightCoord[0],rightCoord[1]] == 'L':\n",
    "        foundCrossings[rightCoord[0],rightCoord[1]] = ticks\n",
    "        # print('found right crossing:',(rightCoord[0],rightCoord[1]),raceTrack[rightCoord[0],rightCoord[1]], abs(rightCoord[0])+abs(rightCoord[1]), ticks)\n",
    "        \n",
    "    raceTrack[rightCoord[0],rightCoord[1]] = 'R'\n",
    "    \n",
    "    rightCurPartIndex += 1\n",
    "    if rightCurPartIndex == rightCurPartLength:\n",
    "        rightCurDirection = False\n",
    "        \n",
    "        \n",
    "    if   leftCurDirection == 'U':\n",
    "        leftCoord[1] -= 1\n",
    "    elif leftCurDirection == 'R':\n",
    "        leftCoord[0] += 1\n",
    "    elif leftCurDirection == 'D':\n",
    "        leftCoord[1] += 1\n",
    "    elif leftCurDirection == 'L':\n",
    "        leftCoord[0] -= 1\n",
    "    \n",
    "    if (leftCoord[0],leftCoord[1]) in raceTrack and raceTrack[leftCoord[0],leftCoord[1]] == 'R':\n",
    "        foundCrossings[leftCoord[0],leftCoord[1]] = ticks\n",
    "        # print('found left crossing :',(leftCoord[0],leftCoord[1]),raceTrack[leftCoord[0],leftCoord[1]], abs(leftCoord[0])+abs(leftCoord[1]), ticks)\n",
    "    \n",
    "    raceTrack[leftCoord[0],leftCoord[1]] = 'L'\n",
    "        \n",
    "    leftCurPartIndex += 1\n",
    "    if leftCurPartIndex == leftCurPartLength:\n",
    "        leftCurDirection = False\n",
    "        \n",
    "print(foundCrossings)"
   ]
  },
  {
   "cell_type": "code",
   "execution_count": 99,
   "metadata": {},
   "outputs": [
    {
     "name": "stdout",
     "output_type": "stream",
     "text": [
      "{(4303, -1752): 117738, (4503, -1752): 120280, (4052, -1974): 120953, (3791, -1974): 121214, (3791, -1598): 121958, (3385, -1259): 124029, (2546, -1383): 124992, (2511, -1383): 125027, (2487, -1383): 125051, (2326, -1383): 125212, (2072, -1383): 125466, (1906, -1428): 125677, (1403, -1850): 126602, (1381, -1565): 126909, (1381, -1428): 127046, (970, -1159): 128318, (970, -1387): 138036}\n",
      "{(4303, -1752): 151820, (4503, -1752): 154562, (4052, -1974): 154562, (3791, -1974): 154522, (3791, -1598): 154890, (3385, -1259): 156216, (2546, -1383): 146596, (2511, -1383): 155460, (2487, -1383): 134662, (2326, -1383): 140568, (2072, -1383): 147566, (1906, -1428): 140568, (1403, -1850): 151960, (1381, -1565): 151960, (1381, -1428): 141412, (970, -1159): 152552, (970, -1387): 162498}\n"
     ]
    }
   ],
   "source": [
    "rightCurPart = leftCurPart = -1\n",
    "rightCurPartLength = leftCurPartLength = -1\n",
    "rightCurDirection = leftCurDirection = False\n",
    "rightCurPartIndex = leftCurPartIndex = 0\n",
    "rightCoord = [0,0]\n",
    "leftCoord = [0,0]\n",
    "\n",
    "raceTrack = {}\n",
    "raceTrack[0,0] = 'O'\n",
    "\n",
    "visitedCrossings = {}\n",
    "print(foundCrossings)\n",
    "\n",
    "for ticks in range (0,138225):\n",
    "    \n",
    "    if not rightCurDirection:\n",
    "        rightCurPart += 1\n",
    "        rightCurDirection = rightWireParts[rightCurPart][0]\n",
    "        rightCurPartLength = int(rightWireParts[rightCurPart][1:])\n",
    "        rightCurPartIndex = 0\n",
    "        \n",
    "        \n",
    "    if   rightCurDirection == 'U':\n",
    "        rightCoord[1] -= 1\n",
    "    elif rightCurDirection == 'R':\n",
    "        rightCoord[0] += 1\n",
    "    elif rightCurDirection == 'D':\n",
    "        rightCoord[1] += 1\n",
    "    elif rightCurDirection == 'L':\n",
    "        rightCoord[0] -= 1\n",
    "    \n",
    "    if (rightCoord[0],rightCoord[1]) in foundCrossings and not (rightCoord[0],rightCoord[1]) in visitedCrossings:\n",
    "        visitedCrossings[rightCoord[0],rightCoord[1]] = ticks\n",
    "        foundCrossings[rightCoord[0],rightCoord[1]] += ticks + 2 # account for start and crossing\n",
    "        \n",
    "    raceTrack[rightCoord[0],rightCoord[1]] = 'R'\n",
    "    \n",
    "    rightCurPartIndex += 1\n",
    "    if rightCurPartIndex == rightCurPartLength:\n",
    "        rightCurDirection = False\n",
    "\n",
    "        \n",
    "print(foundCrossings)"
   ]
  },
  {
   "cell_type": "code",
   "execution_count": null,
   "metadata": {},
   "outputs": [],
   "source": []
  }
 ],
 "metadata": {
  "kernelspec": {
   "display_name": "Python 3",
   "language": "python",
   "name": "python3"
  },
  "language_info": {
   "codemirror_mode": {
    "name": "ipython",
    "version": 3
   },
   "file_extension": ".py",
   "mimetype": "text/x-python",
   "name": "python",
   "nbconvert_exporter": "python",
   "pygments_lexer": "ipython3",
   "version": "3.7.3"
  }
 },
 "nbformat": 4,
 "nbformat_minor": 2
}
